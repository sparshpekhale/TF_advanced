{
 "cells": [
  {
   "cell_type": "code",
   "execution_count": 2,
   "metadata": {},
   "outputs": [],
   "source": [
    "import tensorflow as tf\n",
    "import numpy as np\n",
    "\n",
    "import matplotlib.pyplot as plt"
   ]
  },
  {
   "cell_type": "code",
   "execution_count": 4,
   "metadata": {},
   "outputs": [],
   "source": [
    "def format_ds(x, y):\n",
    "    return tf.cast(x[..., np.newaxis], tf.float32)/255., y\n",
    "\n",
    "BATCH_SIZE = 64\n",
    "\n",
    "train, test = tf.keras.datasets.fashion_mnist.load_data()\n",
    "train = tf.data.Dataset.from_tensor_slices(train)\n",
    "test = tf.data.Dataset.from_tensor_slices(test)\n",
    "train = train.map(format_ds).shuffle(1024).batch(BATCH_SIZE)\n",
    "test = test.map(format_ds).batch(BATCH_SIZE)"
   ]
  },
  {
   "cell_type": "code",
   "execution_count": 5,
   "metadata": {},
   "outputs": [],
   "source": [
    "loss_obj = tf.keras.losses.SparseCategoricalCrossentropy()\n",
    "optimizer = tf.keras.optimizers.Adam()\n",
    "\n",
    "train_acc_metric = tf.keras.metrics.SparseCategoricalAccuracy()\n",
    "val_acc_metric = tf.keras.metrics.SparseCategoricalAccuracy()"
   ]
  },
  {
   "cell_type": "code",
   "execution_count": 31,
   "metadata": {},
   "outputs": [],
   "source": [
    "def base_model():\n",
    "    inputs = tf.keras.layers.Input(shape=(28, 28, 1), name='clothing')\n",
    "    x = tf.keras.layers.Conv2D(64, 3, activation='relu')(inputs)\n",
    "    x = tf.keras.layers.Flatten()(x)\n",
    "    x = tf.keras.layers.Dense(64, activation='relu', name='dense_1')(x)\n",
    "    x = tf.keras.layers.Dense(64, activation='relu', name='dense_2')(x)\n",
    "    outputs = tf.keras.layers.Dense(10, activation='softmax', name='preds')(x)\n",
    "    model = tf.keras.models.Model(inputs=inputs, outputs=outputs)\n",
    "    return model"
   ]
  },
  {
   "cell_type": "code",
   "execution_count": 32,
   "metadata": {},
   "outputs": [],
   "source": [
    "def apply_gradient(optimizer, model, x, y):\n",
    "    with tf.GradientTape() as tape:\n",
    "        logits = model(x)\n",
    "        loss = loss_obj(y_true=y, y_pred=logits)\n",
    "\n",
    "    gradients = tape.gradient(loss, model.trainable_weights)\n",
    "    optimizer.apply_gradients(zip(gradients, model.trainable_weights))\n",
    "\n",
    "    return logits, loss\n",
    "\n",
    "def train_data_for_one_epoch(model):\n",
    "    losses = []\n",
    "    for step, (x_batch_train, y_batch_train) in enumerate(train):\n",
    "        logits, loss_value = apply_gradient(optimizer, model, x_batch_train, y_batch_train)\n",
    "        losses.append(loss_value)\n",
    "\n",
    "        train_acc_metric(y_batch_train, logits)\n",
    "\n",
    "    return losses\n",
    "\n",
    "def perform_validation(model):\n",
    "    losses = []\n",
    "    for x_val, y_val in test:\n",
    "        val_logits = model(x_val)\n",
    "        val_loss = loss_obj(y_true=y_val, y_pred=val_logits)\n",
    "        losses.append(val_loss)\n",
    "\n",
    "        val_acc_metric(y_val, val_logits)\n",
    "\n",
    "    return losses"
   ]
  },
  {
   "cell_type": "code",
   "execution_count": 33,
   "metadata": {},
   "outputs": [
    {
     "name": "stdout",
     "output_type": "stream",
     "text": [
      "EPOCH : 0\n",
      "train_loss= 0.3976, train_acc= 0.86, val_loss= 0.3249, val_acc= 0.88\n",
      "EPOCH : 1\n",
      "train_loss= 0.2571, train_acc= 0.91, val_loss= 0.2929, val_acc= 0.89\n",
      "EPOCH : 2\n",
      "train_loss= 0.2141, train_acc= 0.92, val_loss= 0.2908, val_acc= 0.90\n",
      "EPOCH : 3\n",
      "train_loss= 0.1810, train_acc= 0.93, val_loss= 0.2784, val_acc= 0.91\n",
      "EPOCH : 4\n",
      "train_loss= 0.1547, train_acc= 0.94, val_loss= 0.3047, val_acc= 0.90\n"
     ]
    }
   ],
   "source": [
    "model = base_model()\n",
    "\n",
    "def train_model(model, train, test, EPOCHS=5):\n",
    "    epochs_train_losses, epochs_val_losses = [], []\n",
    "    for epoch in range(EPOCHS):\n",
    "        losses_train = train\n",
    "        print(f'EPOCH : {epoch}')\n",
    "\n",
    "        losses_train = train_data_for_one_epoch(model)\n",
    "        train_acc = train_acc_metric.result()\n",
    "\n",
    "        losses_val = perform_validation(model)\n",
    "        val_acc = val_acc_metric.result()\n",
    "\n",
    "        losses_train_mean = np.mean(losses_train)\n",
    "        losses_val_mean = np.mean(losses_val)\n",
    "        epochs_train_losses.append(losses_train_mean)\n",
    "        epochs_val_losses.append(losses_val_mean)\n",
    "\n",
    "        print(f'train_loss={losses_train_mean: .4f}, train_acc={train_acc: .2f}, val_loss={losses_val_mean: .4f}, val_acc={val_acc: .2f}')\n",
    "\n",
    "        train_acc_metric.reset_states()\n",
    "        val_acc_metric.reset_states()\n",
    "\n",
    "    return epochs_train_losses, epochs_val_losses\n",
    "\n",
    "history = train_model(model, train, test)"
   ]
  },
  {
   "cell_type": "code",
   "execution_count": 12,
   "metadata": {},
   "outputs": [
    {
     "data": {
      "text/plain": [
       "[<matplotlib.lines.Line2D at 0x7fcf4333fa60>]"
      ]
     },
     "execution_count": 12,
     "metadata": {},
     "output_type": "execute_result"
    },
    {
     "data": {
      "image/png": "[encoded data removed]",
      "text/plain": [
       "<Figure size 432x288 with 1 Axes>"
      ]
     },
     "metadata": {
      "needs_background": "light"
     },
     "output_type": "display_data"
    }
   ],
   "source": [
    "plt.plot(history[0])\n",
    "plt.plot(history[1])"
   ]
  },
  {
   "cell_type": "code",
   "execution_count": 34,
   "metadata": {},
   "outputs": [],
   "source": [
    "test_inputs = test#.batch(10001)\n",
    "x_batches, y_pred_batches, y_true_batches = [], [], []\n",
    "\n",
    "for x, y in test_inputs:\n",
    "    y_pred = model(x)\n",
    "    y_pred_batches = y_pred.numpy()\n",
    "    y_true_batches = y.numpy()\n",
    "    x_batches = x.numpy()\n",
    "\n",
    "ind = np.random.choice(len(y_pred_batches), size=10)\n",
    "imgs = x_batches[ind]\n",
    "y_pred_to_plot = y_pred_batches[ind]\n",
    "y_true_to_plot = y_true_batches[ind]\n",
    "\n"
   ]
  },
  {
   "cell_type": "code",
   "execution_count": 35,
   "metadata": {},
   "outputs": [
    {
     "data": {
      "image/png": "[encoded data removed]",
      "text/plain": [
       "<Figure size 1440x288 with 10 Axes>"
      ]
     },
     "metadata": {},
     "output_type": "display_data"
    }
   ],
   "source": [
    "fig = plt.figure(figsize=(20, 4))\n",
    "rows, cols = 1, 10\n",
    "for i in range(rows*cols):\n",
    "    fig.add_subplot(rows, cols, i+1)\n",
    "    plt.title('pred-' + str(np.argmax(y_pred_to_plot[i])) + ', true-' + str(np.argmax(y_true_to_plot[i])))\n",
    "    plt.xticks([])\n",
    "    plt.yticks([])\n",
    "    plt.imshow(imgs[i].reshape(28, 28), cmap='viridis' if np.argmax(y_true_to_plot[i])==np.argmax(y_pred_to_plot[i]) else 'gray')\n",
    "plt.show()"
   ]
  },
  {
   "cell_type": "code",
   "execution_count": 18,
   "metadata": {},
   "outputs": [
    {
     "data": {
      "text/plain": [
       "3"
      ]
     },
     "execution_count": 18,
     "metadata": {},
     "output_type": "execute_result"
    }
   ],
   "source": [
    "np.argmax(y_true_to_plot)"
   ]
  },
  {
   "cell_type": "code",
   "execution_count": 42,
   "metadata": {},
   "outputs": [
    {
     "name": "stdout",
     "output_type": "stream",
     "text": [
      "def tf__add(x, y):\n",
      "    with ag__.FunctionScope('add', 'fscope', ag__.ConversionOptions(recursive=True, user_requested=True, optional_features=(), internal_convert_user_code=True)) as fscope:\n",
      "        do_return = False\n",
      "        retval_ = ag__.UndefinedReturnValue()\n",
      "        try:\n",
      "            do_return = True\n",
      "            retval_ = (ag__.ld(x) + ag__.ld(y))\n",
      "        except:\n",
      "            do_return = False\n",
      "            raise\n",
      "        return fscope.ret(retval_, do_return)\n",
      "\n"
     ]
    }
   ],
   "source": [
    "@tf.function\n",
    "def add(x, y):\n",
    "    return x+y\n",
    "\n",
    "print(tf.autograph.to_code(add.python_function))"
   ]
  }
 ],
 "metadata": {
  "interpreter": {
   "hash": "cd7d9e72280261726b9f16531ddc53955d38cf66cdcf2f3c472847fd90858e71"
  },
  "kernelspec": {
   "display_name": "Python 3.8.10 64-bit ('deep-learning': venv)",
   "language": "python",
   "name": "python3"
  },
  "language_info": {
   "codemirror_mode": {
    "name": "ipython",
    "version": 3
   },
   "file_extension": ".py",
   "mimetype": "text/x-python",
   "name": "python",
   "nbconvert_exporter": "python",
   "pygments_lexer": "ipython3",
   "version": "3.8.10"
  },
  "orig_nbformat": 4
 },
 "nbformat": 4,
 "nbformat_minor": 2
}
