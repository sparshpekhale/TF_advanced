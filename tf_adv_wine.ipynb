{
 "cells": [
  {
   "cell_type": "code",
   "execution_count": 148,
   "metadata": {},
   "outputs": [],
   "source": [
    "import pandas as pd\n",
    "import numpy as np\n",
    "\n",
    "from sklearn.model_selection import train_test_split\n",
    "from sklearn.preprocessing import StandardScaler\n",
    "\n",
    "import tensorflow as tf\n",
    "from tensorflow.python.keras.utils.vis_utils import plot_model\n",
    "\n",
    "import matplotlib.pyplot as plt"
   ]
  },
  {
   "cell_type": "code",
   "execution_count": 155,
   "metadata": {},
   "outputs": [
    {
     "data": {
      "text/html": [
       "<div>\n",
       "<style scoped>\n",
       "    .dataframe tbody tr th:only-of-type {\n",
       "        vertical-align: middle;\n",
       "    }\n",
       "\n",
       "    .dataframe tbody tr th {\n",
       "        vertical-align: top;\n",
       "    }\n",
       "\n",
       "    .dataframe thead th {\n",
       "        text-align: right;\n",
       "    }\n",
       "</style>\n",
       "<table border=\"1\" class=\"dataframe\">\n",
       "  <thead>\n",
       "    <tr style=\"text-align: right;\">\n",
       "      <th></th>\n",
       "      <th>fixed acidity</th>\n",
       "      <th>volatile acidity</th>\n",
       "      <th>citric acid</th>\n",
       "      <th>residual sugar</th>\n",
       "      <th>chlorides</th>\n",
       "      <th>free sulfur dioxide</th>\n",
       "      <th>total sulfur dioxide</th>\n",
       "      <th>density</th>\n",
       "      <th>pH</th>\n",
       "      <th>sulphates</th>\n",
       "      <th>alcohol</th>\n",
       "      <th>quality</th>\n",
       "      <th>is_red</th>\n",
       "    </tr>\n",
       "  </thead>\n",
       "  <tbody>\n",
       "    <tr>\n",
       "      <th>0</th>\n",
       "      <td>7.4</td>\n",
       "      <td>0.70</td>\n",
       "      <td>0.00</td>\n",
       "      <td>1.9</td>\n",
       "      <td>0.076</td>\n",
       "      <td>11.0</td>\n",
       "      <td>34.0</td>\n",
       "      <td>0.99780</td>\n",
       "      <td>3.51</td>\n",
       "      <td>0.56</td>\n",
       "      <td>9.4</td>\n",
       "      <td>5</td>\n",
       "      <td>1</td>\n",
       "    </tr>\n",
       "    <tr>\n",
       "      <th>1</th>\n",
       "      <td>7.8</td>\n",
       "      <td>0.88</td>\n",
       "      <td>0.00</td>\n",
       "      <td>2.6</td>\n",
       "      <td>0.098</td>\n",
       "      <td>25.0</td>\n",
       "      <td>67.0</td>\n",
       "      <td>0.99680</td>\n",
       "      <td>3.20</td>\n",
       "      <td>0.68</td>\n",
       "      <td>9.8</td>\n",
       "      <td>5</td>\n",
       "      <td>1</td>\n",
       "    </tr>\n",
       "    <tr>\n",
       "      <th>2</th>\n",
       "      <td>7.8</td>\n",
       "      <td>0.76</td>\n",
       "      <td>0.04</td>\n",
       "      <td>2.3</td>\n",
       "      <td>0.092</td>\n",
       "      <td>15.0</td>\n",
       "      <td>54.0</td>\n",
       "      <td>0.99700</td>\n",
       "      <td>3.26</td>\n",
       "      <td>0.65</td>\n",
       "      <td>9.8</td>\n",
       "      <td>5</td>\n",
       "      <td>1</td>\n",
       "    </tr>\n",
       "    <tr>\n",
       "      <th>3</th>\n",
       "      <td>11.2</td>\n",
       "      <td>0.28</td>\n",
       "      <td>0.56</td>\n",
       "      <td>1.9</td>\n",
       "      <td>0.075</td>\n",
       "      <td>17.0</td>\n",
       "      <td>60.0</td>\n",
       "      <td>0.99800</td>\n",
       "      <td>3.16</td>\n",
       "      <td>0.58</td>\n",
       "      <td>9.8</td>\n",
       "      <td>6</td>\n",
       "      <td>1</td>\n",
       "    </tr>\n",
       "    <tr>\n",
       "      <th>4</th>\n",
       "      <td>7.4</td>\n",
       "      <td>0.70</td>\n",
       "      <td>0.00</td>\n",
       "      <td>1.9</td>\n",
       "      <td>0.076</td>\n",
       "      <td>11.0</td>\n",
       "      <td>34.0</td>\n",
       "      <td>0.99780</td>\n",
       "      <td>3.51</td>\n",
       "      <td>0.56</td>\n",
       "      <td>9.4</td>\n",
       "      <td>5</td>\n",
       "      <td>1</td>\n",
       "    </tr>\n",
       "    <tr>\n",
       "      <th>...</th>\n",
       "      <td>...</td>\n",
       "      <td>...</td>\n",
       "      <td>...</td>\n",
       "      <td>...</td>\n",
       "      <td>...</td>\n",
       "      <td>...</td>\n",
       "      <td>...</td>\n",
       "      <td>...</td>\n",
       "      <td>...</td>\n",
       "      <td>...</td>\n",
       "      <td>...</td>\n",
       "      <td>...</td>\n",
       "      <td>...</td>\n",
       "    </tr>\n",
       "    <tr>\n",
       "      <th>6492</th>\n",
       "      <td>6.2</td>\n",
       "      <td>0.21</td>\n",
       "      <td>0.29</td>\n",
       "      <td>1.6</td>\n",
       "      <td>0.039</td>\n",
       "      <td>24.0</td>\n",
       "      <td>92.0</td>\n",
       "      <td>0.99114</td>\n",
       "      <td>3.27</td>\n",
       "      <td>0.50</td>\n",
       "      <td>11.2</td>\n",
       "      <td>6</td>\n",
       "      <td>0</td>\n",
       "    </tr>\n",
       "    <tr>\n",
       "      <th>6493</th>\n",
       "      <td>6.6</td>\n",
       "      <td>0.32</td>\n",
       "      <td>0.36</td>\n",
       "      <td>8.0</td>\n",
       "      <td>0.047</td>\n",
       "      <td>57.0</td>\n",
       "      <td>168.0</td>\n",
       "      <td>0.99490</td>\n",
       "      <td>3.15</td>\n",
       "      <td>0.46</td>\n",
       "      <td>9.6</td>\n",
       "      <td>5</td>\n",
       "      <td>0</td>\n",
       "    </tr>\n",
       "    <tr>\n",
       "      <th>6494</th>\n",
       "      <td>6.5</td>\n",
       "      <td>0.24</td>\n",
       "      <td>0.19</td>\n",
       "      <td>1.2</td>\n",
       "      <td>0.041</td>\n",
       "      <td>30.0</td>\n",
       "      <td>111.0</td>\n",
       "      <td>0.99254</td>\n",
       "      <td>2.99</td>\n",
       "      <td>0.46</td>\n",
       "      <td>9.4</td>\n",
       "      <td>6</td>\n",
       "      <td>0</td>\n",
       "    </tr>\n",
       "    <tr>\n",
       "      <th>6495</th>\n",
       "      <td>5.5</td>\n",
       "      <td>0.29</td>\n",
       "      <td>0.30</td>\n",
       "      <td>1.1</td>\n",
       "      <td>0.022</td>\n",
       "      <td>20.0</td>\n",
       "      <td>110.0</td>\n",
       "      <td>0.98869</td>\n",
       "      <td>3.34</td>\n",
       "      <td>0.38</td>\n",
       "      <td>12.8</td>\n",
       "      <td>7</td>\n",
       "      <td>0</td>\n",
       "    </tr>\n",
       "    <tr>\n",
       "      <th>6496</th>\n",
       "      <td>6.0</td>\n",
       "      <td>0.21</td>\n",
       "      <td>0.38</td>\n",
       "      <td>0.8</td>\n",
       "      <td>0.020</td>\n",
       "      <td>22.0</td>\n",
       "      <td>98.0</td>\n",
       "      <td>0.98941</td>\n",
       "      <td>3.26</td>\n",
       "      <td>0.32</td>\n",
       "      <td>11.8</td>\n",
       "      <td>6</td>\n",
       "      <td>0</td>\n",
       "    </tr>\n",
       "  </tbody>\n",
       "</table>\n",
       "<p>6497 rows × 13 columns</p>\n",
       "</div>"
      ],
      "text/plain": [
       "      fixed acidity  volatile acidity  citric acid  residual sugar  chlorides  \\\n",
       "0               7.4              0.70         0.00             1.9      0.076   \n",
       "1               7.8              0.88         0.00             2.6      0.098   \n",
       "2               7.8              0.76         0.04             2.3      0.092   \n",
       "3              11.2              0.28         0.56             1.9      0.075   \n",
       "4               7.4              0.70         0.00             1.9      0.076   \n",
       "...             ...               ...          ...             ...        ...   \n",
       "6492            6.2              0.21         0.29             1.6      0.039   \n",
       "6493            6.6              0.32         0.36             8.0      0.047   \n",
       "6494            6.5              0.24         0.19             1.2      0.041   \n",
       "6495            5.5              0.29         0.30             1.1      0.022   \n",
       "6496            6.0              0.21         0.38             0.8      0.020   \n",
       "\n",
       "      free sulfur dioxide  total sulfur dioxide  density    pH  sulphates  \\\n",
       "0                    11.0                  34.0  0.99780  3.51       0.56   \n",
       "1                    25.0                  67.0  0.99680  3.20       0.68   \n",
       "2                    15.0                  54.0  0.99700  3.26       0.65   \n",
       "3                    17.0                  60.0  0.99800  3.16       0.58   \n",
       "4                    11.0                  34.0  0.99780  3.51       0.56   \n",
       "...                   ...                   ...      ...   ...        ...   \n",
       "6492                 24.0                  92.0  0.99114  3.27       0.50   \n",
       "6493                 57.0                 168.0  0.99490  3.15       0.46   \n",
       "6494                 30.0                 111.0  0.99254  2.99       0.46   \n",
       "6495                 20.0                 110.0  0.98869  3.34       0.38   \n",
       "6496                 22.0                  98.0  0.98941  3.26       0.32   \n",
       "\n",
       "      alcohol  quality  is_red  \n",
       "0         9.4        5       1  \n",
       "1         9.8        5       1  \n",
       "2         9.8        5       1  \n",
       "3         9.8        6       1  \n",
       "4         9.4        5       1  \n",
       "...       ...      ...     ...  \n",
       "6492     11.2        6       0  \n",
       "6493      9.6        5       0  \n",
       "6494      9.4        6       0  \n",
       "6495     12.8        7       0  \n",
       "6496     11.8        6       0  \n",
       "\n",
       "[6497 rows x 13 columns]"
      ]
     },
     "execution_count": 155,
     "metadata": {},
     "output_type": "execute_result"
    }
   ],
   "source": [
    "DIR = './short_projects/Unsupervised/wine/'\n",
    "\n",
    "red = pd.read_csv(DIR+'winequality-red.csv')\n",
    "red['is_red'] = 1\n",
    "white = pd.read_csv(DIR+'winequality-white.csv')\n",
    "white['is_red'] = 0\n",
    "\n",
    "data = pd.concat([red, white], ignore_index=True)\n",
    "data"
   ]
  },
  {
   "cell_type": "code",
   "execution_count": 156,
   "metadata": {},
   "outputs": [
    {
     "data": {
      "text/plain": [
       "((3898, 13), (1300, 13), (1299, 13))"
      ]
     },
     "execution_count": 156,
     "metadata": {},
     "output_type": "execute_result"
    }
   ],
   "source": [
    "train, test = train_test_split(data, train_size=0.6)\n",
    "test, val = train_test_split(test, train_size=0.5)\n",
    "train.shape, val.shape, test.shape"
   ]
  },
  {
   "cell_type": "code",
   "execution_count": 157,
   "metadata": {},
   "outputs": [],
   "source": [
    "def get_y(df):\n",
    "    return [df.pop('quality').to_numpy(), df.pop('is_red').to_numpy()]\n",
    "\n",
    "def standardize(df):\n",
    "    return StandardScaler().fit_transform(df)"
   ]
  },
  {
   "cell_type": "code",
   "execution_count": 158,
   "metadata": {},
   "outputs": [],
   "source": [
    "y_train = get_y(train)\n",
    "y_val = get_y(val)\n",
    "y_test = get_y(test)\n",
    "\n",
    "X_train = standardize(train)\n",
    "X_val = standardize(val)\n",
    "X_test = standardize(test)"
   ]
  },
  {
   "cell_type": "code",
   "execution_count": 209,
   "metadata": {},
   "outputs": [],
   "source": [
    "def get_base_model(inputs):\n",
    "    x = tf.keras.layers.Dense(4, activation=tf.nn.relu)(inputs)\n",
    "    x = tf.keras.layers.Dense(8, activation=tf.nn.relu)(x)\n",
    "    return x\n",
    "\n",
    "def get_model():\n",
    "    inputs = tf.keras.layers.Input(shape=(11, ))\n",
    "    x = get_base_model(inputs)\n",
    "    quality = tf.keras.layers.Dense(1, name='quality')(x)\n",
    "    type = tf.keras.layers.Dense(1, activation=tf.nn.sigmoid, name='type')(x)\n",
    "    return tf.keras.models.Model(inputs=inputs, outputs=[quality, type])"
   ]
  },
  {
   "cell_type": "code",
   "execution_count": 210,
   "metadata": {},
   "outputs": [
    {
     "data": {
      "image/png": "[encoded data removed]",
      "text/plain": [
       "<IPython.core.display.Image object>"
      ]
     },
     "execution_count": 210,
     "metadata": {},
     "output_type": "execute_result"
    }
   ],
   "source": [
    "model = get_model()\n",
    "plot_model(model, show_shapes=True)"
   ]
  },
  {
   "cell_type": "code",
   "execution_count": 211,
   "metadata": {},
   "outputs": [],
   "source": [
    "opt = tf.keras.optimizers.Adam()\n",
    "loss_q = tf.keras.losses.MeanSquaredError()\n",
    "loss_t = tf.keras.losses.BinaryCrossentropy()\n",
    "\n",
    "model.compile(\n",
    "    optimizer=opt,\n",
    "    loss = {\n",
    "        'quality': loss_q,\n",
    "        'type': loss_t\n",
    "    },\n",
    "    metrics = {\n",
    "        'quality': tf.keras.metrics.RootMeanSquaredError(),\n",
    "        'type': 'accuracy'\n",
    "    }\n",
    ")"
   ]
  },
  {
   "cell_type": "code",
   "execution_count": 212,
   "metadata": {},
   "outputs": [
    {
     "name": "stdout",
     "output_type": "stream",
     "text": [
      "Epoch 1/10\n",
      "122/122 [==============================] - 1s 3ms/step - loss: 26.1361 - quality_loss: 25.3259 - type_loss: 0.8102 - quality_root_mean_squared_error: 5.0325 - type_accuracy: 0.2694 - val_loss: 19.3559 - val_quality_loss: 18.5962 - val_type_loss: 0.7597 - val_quality_root_mean_squared_error: 4.3123 - val_type_accuracy: 0.3238\n",
      "Epoch 2/10\n",
      "122/122 [==============================] - 0s 2ms/step - loss: 12.1790 - quality_loss: 11.5580 - type_loss: 0.6209 - quality_root_mean_squared_error: 3.3997 - type_accuracy: 0.6765 - val_loss: 6.8206 - val_quality_loss: 6.3431 - val_type_loss: 0.4774 - val_quality_root_mean_squared_error: 2.5186 - val_type_accuracy: 0.8938\n",
      "Epoch 3/10\n",
      "122/122 [==============================] - 0s 1ms/step - loss: 5.4445 - quality_loss: 5.0611 - type_loss: 0.3834 - quality_root_mean_squared_error: 2.2497 - type_accuracy: 0.9236 - val_loss: 4.2770 - val_quality_loss: 3.9596 - val_type_loss: 0.3174 - val_quality_root_mean_squared_error: 1.9899 - val_type_accuracy: 0.9215\n",
      "Epoch 4/10\n",
      "122/122 [==============================] - 0s 1ms/step - loss: 3.7218 - quality_loss: 3.4341 - type_loss: 0.2877 - quality_root_mean_squared_error: 1.8531 - type_accuracy: 0.9346 - val_loss: 2.9171 - val_quality_loss: 2.6664 - val_type_loss: 0.2507 - val_quality_root_mean_squared_error: 1.6329 - val_type_accuracy: 0.9354\n",
      "Epoch 5/10\n",
      "122/122 [==============================] - 0s 1ms/step - loss: 2.5606 - quality_loss: 2.3265 - type_loss: 0.2342 - quality_root_mean_squared_error: 1.5253 - type_accuracy: 0.9397 - val_loss: 2.0245 - val_quality_loss: 1.8191 - val_type_loss: 0.2054 - val_quality_root_mean_squared_error: 1.3487 - val_type_accuracy: 0.9423\n",
      "Epoch 6/10\n",
      "122/122 [==============================] - 0s 1ms/step - loss: 1.8191 - quality_loss: 1.6231 - type_loss: 0.1960 - quality_root_mean_squared_error: 1.2740 - type_accuracy: 0.9477 - val_loss: 1.5807 - val_quality_loss: 1.4074 - val_type_loss: 0.1733 - val_quality_root_mean_squared_error: 1.1863 - val_type_accuracy: 0.9531\n",
      "Epoch 7/10\n",
      "122/122 [==============================] - 0s 1ms/step - loss: 1.4780 - quality_loss: 1.3089 - type_loss: 0.1691 - quality_root_mean_squared_error: 1.1441 - type_accuracy: 0.9543 - val_loss: 1.3642 - val_quality_loss: 1.2133 - val_type_loss: 0.1509 - val_quality_root_mean_squared_error: 1.1015 - val_type_accuracy: 0.9585\n",
      "Epoch 8/10\n",
      "122/122 [==============================] - 0s 1ms/step - loss: 1.2803 - quality_loss: 1.1304 - type_loss: 0.1499 - quality_root_mean_squared_error: 1.0632 - type_accuracy: 0.9587 - val_loss: 1.1976 - val_quality_loss: 1.0644 - val_type_loss: 0.1331 - val_quality_root_mean_squared_error: 1.0317 - val_type_accuracy: 0.9608\n",
      "Epoch 9/10\n",
      "122/122 [==============================] - 0s 1ms/step - loss: 1.1357 - quality_loss: 1.0004 - type_loss: 0.1352 - quality_root_mean_squared_error: 1.0002 - type_accuracy: 0.9613 - val_loss: 1.0767 - val_quality_loss: 0.9573 - val_type_loss: 0.1194 - val_quality_root_mean_squared_error: 0.9784 - val_type_accuracy: 0.9615\n",
      "Epoch 10/10\n",
      "122/122 [==============================] - 0s 1ms/step - loss: 1.0276 - quality_loss: 0.9039 - type_loss: 0.1236 - quality_root_mean_squared_error: 0.9508 - type_accuracy: 0.9631 - val_loss: 0.9868 - val_quality_loss: 0.8784 - val_type_loss: 0.1085 - val_quality_root_mean_squared_error: 0.9372 - val_type_accuracy: 0.9662\n"
     ]
    }
   ],
   "source": [
    "history = model.fit(X_train, y_train, epochs=10, validation_data=(X_val, y_val), verbose=0)"
   ]
  },
  {
   "cell_type": "code",
   "execution_count": 213,
   "metadata": {},
   "outputs": [
    {
     "data": {
      "text/plain": [
       "dict_keys(['loss', 'quality_loss', 'type_loss', 'quality_root_mean_squared_error', 'type_accuracy', 'val_loss', 'val_quality_loss', 'val_type_loss', 'val_quality_root_mean_squared_error', 'val_type_accuracy'])"
      ]
     },
     "execution_count": 213,
     "metadata": {},
     "output_type": "execute_result"
    }
   ],
   "source": [
    "history.history.keys()"
   ]
  },
  {
   "cell_type": "code",
   "execution_count": 214,
   "metadata": {},
   "outputs": [
    {
     "data": {
      "image/png": "[encoded data removed]",
      "text/plain": [
       "<Figure size 720x432 with 4 Axes>"
      ]
     },
     "metadata": {
      "needs_background": "light"
     },
     "output_type": "display_data"
    }
   ],
   "source": [
    "plt.figure(figsize=(10, 6))\n",
    "\n",
    "plt.subplot(2, 2, 1)\n",
    "plt.plot(history.history['type_loss'])\n",
    "plt.plot(history.history['val_type_loss'])\n",
    "plt.title('type_loss')\n",
    "plt.legend(['train', 'val'])\n",
    "\n",
    "plt.subplot(2, 2, 2)\n",
    "plt.plot(history.history['type_accuracy'])\n",
    "plt.plot(history.history['val_type_accuracy'])\n",
    "plt.title('type_accuracy')\n",
    "plt.legend(['train', 'val'])\n",
    "\n",
    "plt.subplot(2, 2, 3)\n",
    "plt.plot(history.history['quality_loss'])\n",
    "plt.plot(history.history['val_quality_loss'])\n",
    "plt.title('quality_loss')\n",
    "plt.legend(['train', 'val'])\n",
    "\n",
    "plt.subplot(2, 2, 4)\n",
    "plt.plot(history.history['quality_root_mean_squared_error'])\n",
    "plt.plot(history.history['val_quality_root_mean_squared_error'])\n",
    "plt.title('quality_rmse')\n",
    "plt.legend(['train', 'val'])\n",
    "\n",
    "plt.show()"
   ]
  },
  {
   "cell_type": "code",
   "execution_count": 215,
   "metadata": {},
   "outputs": [
    {
     "name": "stdout",
     "output_type": "stream",
     "text": [
      "41/41 [==============================] - 0s 936us/step - loss: 1.0088 - quality_loss: 0.8864 - type_loss: 0.1224 - quality_root_mean_squared_error: 0.9415 - type_accuracy: 0.9677\n"
     ]
    },
    {
     "data": {
      "text/plain": [
       "[1.008753776550293,\n",
       " 0.8863860964775085,\n",
       " 0.12236782908439636,\n",
       " 0.941480815410614,\n",
       " 0.9676674604415894]"
      ]
     },
     "execution_count": 215,
     "metadata": {},
     "output_type": "execute_result"
    }
   ],
   "source": [
    "model.evaluate(X_test, y_test)"
   ]
  },
  {
   "cell_type": "code",
   "execution_count": 225,
   "metadata": {},
   "outputs": [],
   "source": [
    "pred_q, pred_t = model.predict(X_test)"
   ]
  },
  {
   "cell_type": "code",
   "execution_count": 226,
   "metadata": {},
   "outputs": [
    {
     "data": {
      "text/plain": [
       "<matplotlib.collections.PathCollection at 0x7f65b0fe8400>"
      ]
     },
     "execution_count": 226,
     "metadata": {},
     "output_type": "execute_result"
    },
    {
     "data": {
      "image/png": "[encoded data removed]",
      "text/plain": [
       "<Figure size 432x288 with 1 Axes>"
      ]
     },
     "metadata": {
      "needs_background": "light"
     },
     "output_type": "display_data"
    }
   ],
   "source": [
    "plt.scatter(pred_q, y_test[0])"
   ]
  },
  {
   "cell_type": "code",
   "execution_count": 231,
   "metadata": {},
   "outputs": [
    {
     "data": {
      "text/plain": [
       "<matplotlib.collections.PathCollection at 0x7f658cf1e940>"
      ]
     },
     "execution_count": 231,
     "metadata": {},
     "output_type": "execute_result"
    },
    {
     "data": {
      "image/png": "[encoded data removed]",
      "text/plain": [
       "<Figure size 432x288 with 1 Axes>"
      ]
     },
     "metadata": {
      "needs_background": "light"
     },
     "output_type": "display_data"
    }
   ],
   "source": []
  }
 ],
 "metadata": {
  "interpreter": {
   "hash": "cd7d9e72280261726b9f16531ddc53955d38cf66cdcf2f3c472847fd90858e71"
  },
  "kernelspec": {
   "display_name": "Python 3.8.10 64-bit ('deep-learning': venv)",
   "language": "python",
   "name": "python3"
  },
  "language_info": {
   "codemirror_mode": {
    "name": "ipython",
    "version": 3
   },
   "file_extension": ".py",
   "mimetype": "text/x-python",
   "name": "python",
   "nbconvert_exporter": "python",
   "pygments_lexer": "ipython3",
   "version": "3.8.10"
  },
  "orig_nbformat": 4
 },
 "nbformat": 4,
 "nbformat_minor": 2
}
