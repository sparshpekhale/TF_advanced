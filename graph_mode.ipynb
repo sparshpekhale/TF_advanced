{
 "cells": [
  {
   "cell_type": "code",
   "execution_count": 1,
   "metadata": {},
   "outputs": [
    {
     "name": "stderr",
     "output_type": "stream",
     "text": [
      "2022-02-14 18:04:06.963896: W tensorflow/stream_executor/platform/default/dso_loader.cc:64] Could not load dynamic library 'libcudart.so.11.0'; dlerror: libcudart.so.11.0: cannot open shared object file: No such file or directory\n",
      "2022-02-14 18:04:06.963920: I tensorflow/stream_executor/cuda/cudart_stub.cc:29] Ignore above cudart dlerror if you do not have a GPU set up on your machine.\n"
     ]
    }
   ],
   "source": [
    "import tensorflow as tf\n",
    "from tensorflow.keras import layers\n",
    "\n",
    "import tensorflow_datasets as tfds\n",
    "import numpy as np\n",
    "\n",
    "import matplotlib.pyplot as plt"
   ]
  },
  {
   "cell_type": "code",
   "execution_count": 2,
   "metadata": {},
   "outputs": [
    {
     "name": "stderr",
     "output_type": "stream",
     "text": [
      "2022-02-14 18:04:08.799099: I tensorflow/stream_executor/cuda/cuda_gpu_executor.cc:939] successful NUMA node read from SysFS had negative value (-1), but there must be at least one NUMA node, so returning NUMA node zero\n",
      "2022-02-14 18:04:08.799497: W tensorflow/stream_executor/platform/default/dso_loader.cc:64] Could not load dynamic library 'libcudart.so.11.0'; dlerror: libcudart.so.11.0: cannot open shared object file: No such file or directory\n",
      "2022-02-14 18:04:08.799542: W tensorflow/stream_executor/platform/default/dso_loader.cc:64] Could not load dynamic library 'libcublas.so.11'; dlerror: libcublas.so.11: cannot open shared object file: No such file or directory\n",
      "2022-02-14 18:04:08.799582: W tensorflow/stream_executor/platform/default/dso_loader.cc:64] Could not load dynamic library 'libcublasLt.so.11'; dlerror: libcublasLt.so.11: cannot open shared object file: No such file or directory\n",
      "2022-02-14 18:04:08.799622: W tensorflow/stream_executor/platform/default/dso_loader.cc:64] Could not load dynamic library 'libcufft.so.10'; dlerror: libcufft.so.10: cannot open shared object file: No such file or directory\n",
      "2022-02-14 18:04:08.799661: W tensorflow/stream_executor/platform/default/dso_loader.cc:64] Could not load dynamic library 'libcurand.so.10'; dlerror: libcurand.so.10: cannot open shared object file: No such file or directory\n",
      "2022-02-14 18:04:08.799701: W tensorflow/stream_executor/platform/default/dso_loader.cc:64] Could not load dynamic library 'libcusolver.so.11'; dlerror: libcusolver.so.11: cannot open shared object file: No such file or directory\n",
      "2022-02-14 18:04:08.799740: W tensorflow/stream_executor/platform/default/dso_loader.cc:64] Could not load dynamic library 'libcusparse.so.11'; dlerror: libcusparse.so.11: cannot open shared object file: No such file or directory\n",
      "2022-02-14 18:04:08.799779: W tensorflow/stream_executor/platform/default/dso_loader.cc:64] Could not load dynamic library 'libcudnn.so.8'; dlerror: libcudnn.so.8: cannot open shared object file: No such file or directory\n",
      "2022-02-14 18:04:08.799786: W tensorflow/core/common_runtime/gpu/gpu_device.cc:1850] Cannot dlopen some GPU libraries. Please make sure the missing libraries mentioned above are installed properly if you would like to use GPU. Follow the guide at https://www.tensorflow.org/install/gpu for how to download and setup the required libraries for your platform.\n",
      "Skipping registering GPU devices...\n",
      "2022-02-14 18:04:08.800154: I tensorflow/core/platform/cpu_feature_guard.cc:151] This TensorFlow binary is optimized with oneAPI Deep Neural Network Library (oneDNN) to use the following CPU instructions in performance-critical operations:  AVX2 FMA\n",
      "To enable them in other operations, rebuild TensorFlow with the appropriate compiler flags.\n"
     ]
    }
   ],
   "source": [
    "splits, info = tfds.load('horses_or_humans', as_supervised=True, with_info=True, split=['train[:80%]', 'train[80%:]', 'test'], data_dir='./data')\n",
    "train, val, test = splits\n",
    "\n",
    "num_examples = info.splits['train'].num_examples\n",
    "num_classes = info.features['label'].num_classes\n",
    "\n",
    "BATCH_SIZE = 32\n",
    "IMAGE_SIZE = 224"
   ]
  },
  {
   "cell_type": "code",
   "execution_count": 3,
   "metadata": {},
   "outputs": [],
   "source": [
    "@tf.function\n",
    "def process_img(img, label):\n",
    "    return tf.image.resize(img, (224, 224)) / 255., label\n",
    "\n",
    "def prepare_ds(train, val, test, num_examples, process_fn, batch_size):\n",
    "    train_ds = train.map(process_img).shuffle(num_examples).batch(batch_size)\n",
    "    val_ds = val.map(process_img).batch(batch_size)\n",
    "    test_ds = test.map(process_img).batch(batch_size)\n",
    "\n",
    "    return train_ds, val_ds, test_ds"
   ]
  },
  {
   "cell_type": "code",
   "execution_count": 4,
   "metadata": {},
   "outputs": [],
   "source": [
    "train_ds, val_ds, test_ds = prepare_ds(train, val, test, num_examples, process_img, BATCH_SIZE)"
   ]
  },
  {
   "cell_type": "code",
   "execution_count": 5,
   "metadata": {},
   "outputs": [],
   "source": [
    "model = tf.keras.models.Sequential([\n",
    "    layers.Input(shape=(IMAGE_SIZE, IMAGE_SIZE, 3)),\n",
    "    layers.Conv2D(64, 3, padding='same', activation='relu'),\n",
    "    layers.Flatten(),\n",
    "    layers.Dense(num_classes, activation='softmax')\n",
    "])"
   ]
  },
  {
   "cell_type": "code",
   "execution_count": 6,
   "metadata": {},
   "outputs": [],
   "source": [
    "optimizer = tf.keras.optimizers.Adam()\n",
    "\n",
    "train_loss = tf.keras.losses.SparseCategoricalCrossentropy()\n",
    "val_loss = tf.keras.losses.SparseCategoricalCrossentropy()\n",
    "\n",
    "train_accuracy = tf.keras.metrics.SparseCategoricalAccuracy()\n",
    "val_accuracy = tf.keras.metrics.SparseCategoricalAccuracy()"
   ]
  },
  {
   "cell_type": "code",
   "execution_count": 8,
   "metadata": {},
   "outputs": [],
   "source": [
    "EPOCHS = 2\n",
    "\n",
    "def train_one_step(model, optimizer, x, y, train_loss, train_acc):\n",
    "\n",
    "    with tf.GradientTape() as tape:\n",
    "        preds = model(x)\n",
    "        loss = train_loss(y, preds)\n",
    "\n",
    "    grads = tape.gradient(loss, model.trainable_variables)\n",
    "\n",
    "    optimizer.apply_gradients(zip(grads, model.trainable_variables))\n",
    "\n",
    "    train_acc(y, preds)\n",
    "\n",
    "    return loss\n",
    "\n",
    "@tf.function\n",
    "def train_model(model, optimizer, epochs, train_ds, val_ds, train_loss_obj, train_acc, val_loss_obj, val_acc):\n",
    "\n",
    "    step = 0\n",
    "    train_loss = 0.\n",
    "    val_loss = 0.\n",
    "    for epoch in range(epochs):\n",
    "        for x, y in train_ds:\n",
    "            step += 1\n",
    "            train_loss = train_one_step(model, optimizer, x, y, train_loss_obj, train_acc)\n",
    "\n",
    "            tf.print('Step', step, ': train_loss =', train_loss, 'train_acc =' , train_acc.result())\n",
    "\n",
    "        for x, y in val_ds:\n",
    "            y_pred = model(x)\n",
    "            val_loss = val_loss_obj(y, y_pred)\n",
    "            val_acc(y, y_pred)\n",
    "\n",
    "        tf.print(f'Epoch', epoch, ': train_loss =', train_loss, 'train_acc =', train_acc.result(), 'val_loss =', val_loss, 'val_acc =', val_acc.result())"
   ]
  },
  {
   "cell_type": "code",
   "execution_count": 9,
   "metadata": {},
   "outputs": [
    {
     "name": "stdout",
     "output_type": "stream",
     "text": [
      "Step 1 : train_loss = 0.675483823 train_acc = 0.71875\n",
      "Step 2 : train_loss = 195.667099 train_acc = 0.59375\n",
      "Step 3 : train_loss = 70.7385788 train_acc = 0.572916687\n",
      "Step 4 : train_loss = 88.8426819 train_acc = 0.5390625\n",
      "Step 5 : train_loss = 100.939346 train_acc = 0.53125\n",
      "Step 6 : train_loss = 57.2702827 train_acc = 0.526041687\n",
      "Step 7 : train_loss = 9.63779831 train_acc = 0.517857134\n",
      "Step 8 : train_loss = 30.538868 train_acc = 0.515625\n",
      "Step 9 : train_loss = 54.2248535 train_acc = 0.517361104\n",
      "Step 10 : train_loss = 72.6591 train_acc = 0.503125\n",
      "Step 11 : train_loss = 65.3465 train_acc = 0.488636374\n",
      "Step 12 : train_loss = 35.4717865 train_acc = 0.494791657\n",
      "Step 13 : train_loss = 16.5029869 train_acc = 0.5\n",
      "Step 14 : train_loss = 2.85984635 train_acc = 0.517857134\n",
      "Step 15 : train_loss = 9.76334 train_acc = 0.514583349\n",
      "Step 16 : train_loss = 10.8365269 train_acc = 0.517578125\n",
      "Step 17 : train_loss = 21.3196125 train_acc = 0.514705896\n",
      "Step 18 : train_loss = 21.9693565 train_acc = 0.506944418\n",
      "Step 19 : train_loss = 14.2730732 train_acc = 0.509868443\n",
      "Step 20 : train_loss = 9.65313053 train_acc = 0.5078125\n",
      "Step 21 : train_loss = 2.79498816 train_acc = 0.513392866\n",
      "Step 22 : train_loss = 1.21322286 train_acc = 0.526988626\n",
      "Step 23 : train_loss = 4.71560478 train_acc = 0.528532624\n",
      "Step 24 : train_loss = 3.73923254 train_acc = 0.533854187\n",
      "Step 25 : train_loss = 1.63515639 train_acc = 0.54\n",
      "Step 26 : train_loss = 1.74740839 train_acc = 0.546228707\n",
      "Epoch 0 : train_loss = 1.74740839 train_acc = 0.546228707 val_loss = 2.04418468 val_acc = 0.790243924\n",
      "Step 27 : train_loss = 1.86070466 train_acc = 0.552693188\n",
      "Step 28 : train_loss = 1.02263629 train_acc = 0.560948074\n",
      "Step 29 : train_loss = 2.05850124 train_acc = 0.571895421\n",
      "Step 30 : train_loss = 0.954452753 train_acc = 0.583157897\n",
      "Step 31 : train_loss = 2.23178196 train_acc = 0.592668\n",
      "Step 32 : train_loss = 1.03127444 train_acc = 0.599605501\n",
      "Step 33 : train_loss = 0.303452194 train_acc = 0.608030617\n",
      "Step 34 : train_loss = 0.305204213 train_acc = 0.616883099\n",
      "Step 35 : train_loss = 0.25891903 train_acc = 0.626126111\n",
      "Step 36 : train_loss = 0.209227353 train_acc = 0.63572681\n",
      "Step 37 : train_loss = 0.0616365 train_acc = 0.64565587\n",
      "Step 38 : train_loss = 0.0549992174 train_acc = 0.654228866\n",
      "Step 39 : train_loss = 0.552650213 train_acc = 0.65831989\n",
      "Step 40 : train_loss = 0.168465734 train_acc = 0.664566934\n",
      "Step 41 : train_loss = 0.174258709 train_acc = 0.67127496\n",
      "Step 42 : train_loss = 0.169443429 train_acc = 0.67766118\n",
      "Step 43 : train_loss = 0.032000389 train_acc = 0.685212314\n",
      "Step 44 : train_loss = 0.0549608804 train_acc = 0.692417741\n",
      "Step 45 : train_loss = 0.235324368 train_acc = 0.695104897\n",
      "Step 46 : train_loss = 0.158963159 train_acc = 0.699726403\n",
      "Step 47 : train_loss = 0.0387946293 train_acc = 0.705488622\n",
      "Step 48 : train_loss = 0.443917811 train_acc = 0.707732618\n",
      "Step 49 : train_loss = 0.0951938182 train_acc = 0.712451875\n",
      "Step 50 : train_loss = 0.0871475935 train_acc = 0.717610061\n",
      "Step 51 : train_loss = 0.0988341048 train_acc = 0.721948206\n",
      "Step 52 : train_loss = 0.147735924 train_acc = 0.725669086\n",
      "Epoch 1 : train_loss = 0.147735924 train_acc = 0.725669086 val_loss = 0.0927915201 val_acc = 0.895121932\n"
     ]
    }
   ],
   "source": [
    "train_model(model, optimizer, EPOCHS, train_ds, val_ds, train_loss, train_accuracy, val_loss, val_accuracy)"
   ]
  },
  {
   "cell_type": "code",
   "execution_count": 11,
   "metadata": {},
   "outputs": [],
   "source": [
    "test_imgs = []\n",
    "test_labels = []\n",
    "\n",
    "predictions = []\n",
    "for images, labels in test_ds:\n",
    "    preds = model(images)\n",
    "    preds = preds.numpy()\n",
    "    predictions.extend(preds)\n",
    "\n",
    "    test_imgs.extend(images.numpy())\n",
    "    test_labels.extend(labels.numpy())"
   ]
  },
  {
   "cell_type": "code",
   "execution_count": 12,
   "metadata": {},
   "outputs": [],
   "source": [
    "class_names = ['horse', 'human']\n",
    "\n",
    "def plot_image(i, predictions_array, true_label, img):\n",
    "    predictions_array, true_label, img = predictions_array[i], true_label[i], img[i]\n",
    "    plt.grid(False)\n",
    "    plt.xticks([])\n",
    "    plt.yticks([])\n",
    "\n",
    "    img = np.squeeze(img)\n",
    "\n",
    "    plt.imshow(img, cmap=plt.cm.binary)\n",
    "\n",
    "    predicted_label = np.argmax(predictions_array)\n",
    "    \n",
    "    # green-colored annotations will mark correct predictions. red otherwise.\n",
    "    if predicted_label == true_label:\n",
    "        color = 'green'\n",
    "    else:\n",
    "        color = 'red'\n",
    "    \n",
    "    # print the true label first\n",
    "    print(true_label)\n",
    "  \n",
    "    # show the image and overlay the prediction\n",
    "    plt.xlabel(\"{} {:2.0f}% ({})\".format(class_names[predicted_label],\n",
    "                                100*np.max(predictions_array),\n",
    "                                class_names[true_label]),\n",
    "                                color=color)"
   ]
  },
  {
   "cell_type": "code",
   "execution_count": 31,
   "metadata": {},
   "outputs": [
    {
     "name": "stdout",
     "output_type": "stream",
     "text": [
      "1\n"
     ]
    },
    {
     "data": {
      "image/png": "[encoded data removed]",
      "text/plain": [
       "<Figure size 432x216 with 1 Axes>"
      ]
     },
     "metadata": {},
     "output_type": "display_data"
    }
   ],
   "source": [
    "index = np.random.randint(255)\n",
    "plt.figure(figsize=(6,3))\n",
    "plt.subplot(1,2,1)\n",
    "plot_image(index, predictions, test_labels, test_imgs)\n",
    "plt.show()"
   ]
  }
 ],
 "metadata": {
  "interpreter": {
   "hash": "cd7d9e72280261726b9f16531ddc53955d38cf66cdcf2f3c472847fd90858e71"
  },
  "kernelspec": {
   "display_name": "Python 3.8.10 64-bit ('deep-learning': venv)",
   "language": "python",
   "name": "python3"
  },
  "language_info": {
   "codemirror_mode": {
    "name": "ipython",
    "version": 3
   },
   "file_extension": ".py",
   "mimetype": "text/x-python",
   "name": "python",
   "nbconvert_exporter": "python",
   "pygments_lexer": "ipython3",
   "version": "3.8.10"
  },
  "orig_nbformat": 4
 },
 "nbformat": 4,
 "nbformat_minor": 2
}
