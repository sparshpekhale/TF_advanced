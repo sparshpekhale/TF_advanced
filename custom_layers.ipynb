{
 "cells": [
  {
   "cell_type": "code",
   "execution_count": 1,
   "metadata": {},
   "outputs": [
    {
     "name": "stderr",
     "output_type": "stream",
     "text": [
      "2022-02-08 16:47:45.803324: W tensorflow/stream_executor/platform/default/dso_loader.cc:64] Could not load dynamic library 'libcudart.so.11.0'; dlerror: libcudart.so.11.0: cannot open shared object file: No such file or directory\n",
      "2022-02-08 16:47:45.803385: I tensorflow/stream_executor/cuda/cudart_stub.cc:29] Ignore above cudart dlerror if you do not have a GPU set up on your machine.\n"
     ]
    }
   ],
   "source": [
    "import tensorflow as tf\n",
    "from tensorflow.keras import layers\n",
    "from tensorflow.keras.models import Sequential\n",
    "\n",
    "import numpy as np"
   ]
  },
  {
   "cell_type": "code",
   "execution_count": 2,
   "metadata": {},
   "outputs": [],
   "source": [
    "class MyDense(layers.Layer):\n",
    "\n",
    "    def __init__(self, units=32, activation=None):\n",
    "        super(MyDense, self).__init__()\n",
    "        self.units = units\n",
    "        self.activation = tf.keras.activations.get(activation)\n",
    "\n",
    "    def build(self, input_shape):\n",
    "        w_init = tf.random_normal_initializer()\n",
    "        b_init = tf.zeros_initializer()\n",
    "\n",
    "        # print(input_shape)\n",
    "\n",
    "        self.w = tf.Variable(name='kernel',\n",
    "                            initial_value=w_init(shape=(input_shape[-1], self.units), dtype='float32'),\n",
    "                            trainable=True)\n",
    "        self.b = tf.Variable(name='bias',\n",
    "                            initial_value=b_init(shape=(self.units, ), dtype='float32'),\n",
    "                            trainable=True)\n",
    "\n",
    "    def call(self, inputs):\n",
    "        # print(inputs.shape, self.w.shape)\n",
    "        return self.activation(tf.matmul(inputs, self.w) + self.b)\n",
    "\n",
    "   \n",
    "# my_dense = MyDense(units=1)\n",
    "# x = tf.ones((1, 1))\n",
    "# y = my_dense(x)\n",
    "# print(my_dense.variables)"
   ]
  },
  {
   "cell_type": "code",
   "execution_count": 3,
   "metadata": {},
   "outputs": [],
   "source": [
    "class Quad(layers.Layer):\n",
    "    \n",
    "    def __init__(self, units, activation=None):\n",
    "        super(Quad, self).__init__()\n",
    "        self.units = units\n",
    "        self.activation = tf.keras.activations.get(activation)\n",
    "\n",
    "    def build(self, input_shape):\n",
    "        a_init = tf.random_normal_initializer()\n",
    "        b_init = tf.random_normal_initializer()\n",
    "        c_init = tf.zeros_initializer()\n",
    "\n",
    "        self.a = tf.Variable(name='a',\n",
    "                            initial_value = a_init(shape=(input_shape[-1], self.units), dtype='float32'),\n",
    "                            trainable=True)\n",
    "\n",
    "        self.b = tf.Variable(name='b',\n",
    "                            initial_value = b_init(shape=(input_shape[-1], self.units), dtype='float32'),\n",
    "                            trainable=True)\n",
    "\n",
    "        self.c = tf.Variable(name='c',\n",
    "                            initial_value = c_init(shape=(self.units, ), dtype='float32'),\n",
    "                            trainable=True)\n",
    "\n",
    "    def call(self, inputs):\n",
    "        return tf.matmul(tf.math.square(inputs), self.a) + tf.matmul(inputs, self.b) + self.c\n",
    "\n",
    "\n",
    "# my_dense = Quad(units=1)\n",
    "# x = tf.ones((1, 1))\n",
    "# y = my_dense(x)\n",
    "# print(my_dense.variables)"
   ]
  },
  {
   "cell_type": "code",
   "execution_count": 13,
   "metadata": {},
   "outputs": [
    {
     "data": {
      "text/plain": [
       "<tensorflow.python.ops.init_ops_v2.RandomNormal at 0x7fe8b4441ac0>"
      ]
     },
     "execution_count": 13,
     "metadata": {},
     "output_type": "execute_result"
    }
   ],
   "source": [
    "tf.random_normal_initializer()"
   ]
  },
  {
   "cell_type": "code",
   "execution_count": 5,
   "metadata": {},
   "outputs": [
    {
     "name": "stdout",
     "output_type": "stream",
     "text": [
      "[[16.618803]]\n",
      "[<tf.Variable 'my_dense_1/kernel:0' shape=(1, 1) dtype=float32, numpy=array([[1.8932732]], dtype=float32)>, <tf.Variable 'my_dense_1/bias:0' shape=(1,) dtype=float32, numpy=array([-2.313929], dtype=float32)>]\n"
     ]
    }
   ],
   "source": [
    "x = np.arange(10).astype(np.float32)[..., np.newaxis]\n",
    "y = x*2-3\n",
    "\n",
    "# print(x.shape)\n",
    "\n",
    "my_dense = MyDense(units=1, activation='relu')\n",
    "model = tf.keras.models.Sequential([my_dense])\n",
    "model.compile(optimizer='sgd', loss='mean_squared_error')\n",
    "model.fit(x, y, epochs=500, verbose=0)\n",
    "print(model.predict([10.0]))\n",
    "print(my_dense.variables)"
   ]
  },
  {
   "cell_type": "code",
   "execution_count": 7,
   "metadata": {},
   "outputs": [
    {
     "name": "stdout",
     "output_type": "stream",
     "text": [
      "Epoch 1/5\n",
      "1875/1875 [==============================] - 3s 2ms/step - loss: 0.3927 - accuracy: 0.8878\n",
      "Epoch 2/5\n",
      "1875/1875 [==============================] - 3s 2ms/step - loss: 0.3278 - accuracy: 0.9087\n",
      "Epoch 3/5\n",
      "1875/1875 [==============================] - 3s 2ms/step - loss: 0.3123 - accuracy: 0.9132\n",
      "Epoch 4/5\n",
      "1875/1875 [==============================] - 3s 2ms/step - loss: 0.3035 - accuracy: 0.9164\n",
      "Epoch 5/5\n",
      "1875/1875 [==============================] - 3s 2ms/step - loss: 0.2958 - accuracy: 0.9178\n",
      "313/313 [==============================] - 0s 1ms/step - loss: 0.2862 - accuracy: 0.9205\n"
     ]
    },
    {
     "data": {
      "text/plain": [
       "[0.2862119674682617, 0.9204999804496765]"
      ]
     },
     "execution_count": 7,
     "metadata": {},
     "output_type": "execute_result"
    }
   ],
   "source": [
    "(X_train, y_train), (X_test, y_test) = tf.keras.datasets.mnist.load_data()\n",
    "X_train, X_test = X_train/255., X_test/255.\n",
    "\n",
    "model = Sequential([\n",
    "    layers.Flatten(input_shape=(28, 28)),\n",
    "    Quad(units=128, activation='relu'),\n",
    "    layers.Dropout(0.2),\n",
    "    layers.Dense(10, activation='softmax')\n",
    "])\n",
    "model.compile(optimizer='adam', loss='sparse_categorical_crossentropy', metrics=['accuracy'])\n",
    "model.fit(X_train, y_train, epochs=5)\n",
    "model.evaluate(X_test, y_test)"
   ]
  },
  {
   "cell_type": "code",
   "execution_count": null,
   "metadata": {},
   "outputs": [],
   "source": []
  }
 ],
 "metadata": {
  "interpreter": {
   "hash": "cd7d9e72280261726b9f16531ddc53955d38cf66cdcf2f3c472847fd90858e71"
  },
  "kernelspec": {
   "display_name": "Python 3.8.10 64-bit ('deep-learning': venv)",
   "language": "python",
   "name": "python3"
  },
  "language_info": {
   "codemirror_mode": {
    "name": "ipython",
    "version": 3
   },
   "file_extension": ".py",
   "mimetype": "text/x-python",
   "name": "python",
   "nbconvert_exporter": "python",
   "pygments_lexer": "ipython3",
   "version": "3.8.10"
  },
  "orig_nbformat": 4
 },
 "nbformat": 4,
 "nbformat_minor": 2
}
