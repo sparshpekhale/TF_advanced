{
 "cells": [
  {
   "cell_type": "code",
   "execution_count": 51,
   "metadata": {},
   "outputs": [],
   "source": [
    "import tensorflow as tf\n",
    "from tensorflow.keras.layers import Dense, Input, concatenate, Conv2D, BatchNormalization, Activation, Add, MaxPool2D, GlobalAveragePooling2D\n",
    "from tensorflow.keras.models import Model\n",
    "from tensorflow.nn import relu\n",
    "from tensorflow.python.keras.utils.vis_utils import plot_model\n",
    "from tensorflow.keras.applications import ResNet50\n",
    "\n",
    "import numpy as np"
   ]
  },
  {
   "cell_type": "code",
   "execution_count": 4,
   "metadata": {},
   "outputs": [],
   "source": [
    "class MyModel(Model):\n",
    "\n",
    "    def __init__(self, units=32, activation='relu', **kwargs):\n",
    "        super().__init__()\n",
    "        self.hidden1 = Dense(units, activation=activation, name='hidden1')\n",
    "        self.hidden2 = Dense(units, activation=activation, name='hidden2')\n",
    "        self.main_out = Dense(1)\n",
    "        self.aux_out = Dense(1)\n",
    "\n",
    "    def call(self, inputs):\n",
    "        in_l, in_r = inputs\n",
    "        hidden1 = self.hidden1(in_r)\n",
    "        hidden2 = self.hidden2(hidden1)\n",
    "        concat = concatenate([in_l, hidden2])\n",
    "        main_out = self.main_out(concat)\n",
    "        aux_out = self.aux_out(hidden2)\n",
    "        return main_out, aux_out\n",
    "\n",
    "model = MyModel()\n"
   ]
  },
  {
   "cell_type": "markdown",
   "metadata": {},
   "source": [
    "![img](1.png)"
   ]
  },
  {
   "cell_type": "markdown",
   "metadata": {},
   "source": [
    "## Implementing ResNet18"
   ]
  },
  {
   "cell_type": "markdown",
   "metadata": {},
   "source": [
    "![img](2.png)"
   ]
  },
  {
   "cell_type": "code",
   "execution_count": 57,
   "metadata": {},
   "outputs": [],
   "source": [
    "class IdentityBlock(Model):\n",
    "\n",
    "    def __init__(self, filters, kernel_size):\n",
    "        super(IdentityBlock, self).__init__()\n",
    "\n",
    "        self.conv1 = Conv2D(filters, kernel_size, padding='same')\n",
    "        self.bn1 = BatchNormalization()\n",
    "\n",
    "        self.conv2 = Conv2D(filters, kernel_size, padding='same')\n",
    "        self.bn2 = BatchNormalization()\n",
    "\n",
    "        self.act = Activation('relu')\n",
    "        self.add = Add()\n",
    "\n",
    "    def call(self, input_tensor):\n",
    "        x = self.conv1(input_tensor)\n",
    "        x = self.bn1(x)\n",
    "        x = self.act(x)\n",
    "\n",
    "        x = self.conv2(x)\n",
    "        x = self.bn2(x)\n",
    "\n",
    "        x = self.add([x, input_tensor])\n",
    "        x = self.act(x)\n",
    "\n",
    "        return x\n",
    "\n",
    "\n",
    "class ResNet(Model):\n",
    "\n",
    "    def __init__(self, num_classes):\n",
    "        super(ResNet, self).__init__()\n",
    "        self.conv = Conv2D(64, 7, padding='same')\n",
    "        self.bn = BatchNormalization()\n",
    "        self.act = Activation('relu')\n",
    "        self.max_pool = MaxPool2D((3, 3))\n",
    "        self.identity1 = IdentityBlock(64, 3)\n",
    "        self.identity2 = IdentityBlock(64, 3)\n",
    "        self.global_pool = GlobalAveragePooling2D()\n",
    "        self.classifier = Dense(num_classes, activation='softmax')\n",
    "\n",
    "    def call(self, inputs):\n",
    "        x = self.conv(inputs)\n",
    "        x = self.bn(x)\n",
    "        x = self.act(x)\n",
    "        x = self.max_pool(x)\n",
    "\n",
    "        x = self.identity1(x)\n",
    "        x = self.identity2(x)\n",
    "\n",
    "        x = self.global_pool(x)\n",
    "        return self.classifier(x)"
   ]
  },
  {
   "cell_type": "code",
   "execution_count": 82,
   "metadata": {},
   "outputs": [
    {
     "name": "stdout",
     "output_type": "stream",
     "text": [
      "1875/1875 [==============================] - 88s 47ms/step - loss: 0.1285 - accuracy: 0.9662\n",
      "313/313 [==============================] - 4s 12ms/step - loss: 0.9323 - accuracy: 0.7785\n"
     ]
    },
    {
     "data": {
      "text/plain": [
       "[0.932255744934082, 0.7785000205039978]"
      ]
     },
     "execution_count": 82,
     "metadata": {},
     "output_type": "execute_result"
    }
   ],
   "source": [
    "train, test = tf.keras.datasets.mnist.load_data()\n",
    "train = tf.data.Dataset.from_tensor_slices(train)\n",
    "train = train.map(lambda x, y: ((tf.cast(x, tf.float32)/255.)[..., np.newaxis], y)).batch(32)\n",
    "test = tf.data.Dataset.from_tensor_slices(test)\n",
    "test = test.map(lambda x, y: ((tf.cast(x, tf.float32)/255.)[..., np.newaxis], y)).batch(32)\n",
    "\n",
    "resnet = ResNet(10)\n",
    "resnet.compile(optimizer='adam', loss='sparse_categorical_crossentropy', metrics=['accuracy'])\n",
    "resnet.fit(train, epochs=1)\n",
    "resnet.evaluate(test)"
   ]
  }
 ],
 "metadata": {
  "interpreter": {
   "hash": "cd7d9e72280261726b9f16531ddc53955d38cf66cdcf2f3c472847fd90858e71"
  },
  "kernelspec": {
   "display_name": "Python 3.8.10 64-bit ('deep-learning': venv)",
   "language": "python",
   "name": "python3"
  },
  "language_info": {
   "codemirror_mode": {
    "name": "ipython",
    "version": 3
   },
   "file_extension": ".py",
   "mimetype": "text/x-python",
   "name": "python",
   "nbconvert_exporter": "python",
   "pygments_lexer": "ipython3",
   "version": "3.8.10"
  },
  "orig_nbformat": 4
 },
 "nbformat": 4,
 "nbformat_minor": 2
}
